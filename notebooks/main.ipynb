{
 "cells": [
  {
   "cell_type": "code",
   "execution_count": null,
   "metadata": {},
   "outputs": [],
   "source": [
    "import polars as pl\n",
    "from rich import print\n",
    "\n",
    "df = pl.read_parquet(\"../data/alltime_athletics_version_2024-07-09.parquet\")\n",
    "plot_kwargs = {\"width\": 1000, \"height\": 500, \"grid\": True}"
   ]
  },
  {
   "cell_type": "markdown",
   "metadata": {},
   "source": [
    "# What events do we have data for\n"
   ]
  },
  {
   "cell_type": "code",
   "execution_count": null,
   "metadata": {},
   "outputs": [],
   "source": [
    "print(\"Events:\")\n",
    "print(df[\"event\"].unique().to_list())\n",
    "\n",
    "print(\"Events that women do, but men don't:\")\n",
    "print(\n",
    "    df.filter(\n",
    "        pl.col(\"sex\") == \"female\",\n",
    "        pl.col(\"event\")\n",
    "        .is_in(df.filter(pl.col(\"sex\") == \"male\")[\"event\"].unique())\n",
    "        .not_(),\n",
    "    )[\"event\"]\n",
    "    .unique()\n",
    "    .to_list()\n",
    ")\n",
    "\n",
    "print(\"Events that men do, but women don't:\")\n",
    "print(\n",
    "    df.filter(\n",
    "        pl.col(\"sex\") == \"male\",\n",
    "        pl.col(\"event\")\n",
    "        .is_in(df.filter(pl.col(\"sex\") == \"female\")[\"event\"].unique())\n",
    "        .not_(),\n",
    "    )[\"event\"]\n",
    "    .unique()\n",
    "    .to_list()\n",
    ")\n"
   ]
  },
  {
   "cell_type": "markdown",
   "metadata": {},
   "source": [
    "# Get all world records, sorted by when they were achieved\n"
   ]
  },
  {
   "cell_type": "code",
   "execution_count": null,
   "metadata": {},
   "outputs": [],
   "source": [
    "(\n",
    "    df.filter(pl.col(\"event type\") == \"standard\")\n",
    "    .filter(\n",
    "        pl.col(\"result seconds\")\n",
    "        == pl.col(\"result seconds\").min().over(\"sex\", \"event\")\n",
    "    )\n",
    "    .sort(\"date of event\")\n",
    ")\n"
   ]
  },
  {
   "cell_type": "markdown",
   "metadata": {},
   "source": [
    "# World record progression of the 10km road\n"
   ]
  },
  {
   "cell_type": "code",
   "execution_count": null,
   "metadata": {},
   "outputs": [],
   "source": [
    "(\n",
    "    df.filter(pl.col(\"event\") == \"10km road\")\n",
    "    .sort(\"date of event\")\n",
    "    .with_columns(current_wr=pl.col(\"result seconds\").cum_min().over(\"sex\"))\n",
    "    .filter(pl.col(\"result seconds\") == pl.col(\"current_wr\"))\n",
    "    .with_columns(\n",
    "        percent_of_wr=100\n",
    "        * pl.col(\"result seconds\")\n",
    "        / pl.col(\"result seconds\").min().over(\"sex\")\n",
    "    )\n",
    "    .plot.step(\n",
    "        \"date of event\",\n",
    "        \"percent_of_wr\",\n",
    "        by=\"sex\",\n",
    "        xlabel=\"Date\",\n",
    "        ylabel=\"Percent of current WR\",\n",
    "        title=\"WR progression in the marathon\",\n",
    "        **plot_kwargs,\n",
    "    )\n",
    ")\n"
   ]
  },
  {
   "cell_type": "markdown",
   "metadata": {},
   "source": [
    "# How much have times improved since \"super shoes\" came to market?\n"
   ]
  },
  {
   "cell_type": "code",
   "execution_count": null,
   "metadata": {},
   "outputs": [],
   "source": [
    "(\n",
    "    df.filter(pl.col(\"event\") == \"10km road\")\n",
    "    .with_columns(year=pl.col(\"date of event\").dt.year())\n",
    "    .with_columns(\n",
    "        rank_in_that_year=pl.col(\"result seconds\")\n",
    "        .rank()\n",
    "        .over(\"sex\", \"year\")\n",
    "        .cast(pl.Int64)\n",
    "    )\n",
    "    .filter(pl.col(\"year\") < 2024)\n",
    "    .filter(pl.col(\"rank_in_that_year\") <= 10)\n",
    "    .sort(\"sex\", \"year\", \"rank\")\n",
    "    .plot.scatter(\n",
    "        \"date of event\", \"result seconds\", by=\"sex\", alpha=0.45, **plot_kwargs\n",
    "    )\n",
    ")"
   ]
  },
  {
   "cell_type": "markdown",
   "metadata": {},
   "source": [
    "# How do pace and distance of the WRs relate?\n"
   ]
  },
  {
   "cell_type": "code",
   "execution_count": null,
   "metadata": {},
   "outputs": [],
   "source": [
    "(\n",
    "    df.filter(\n",
    "        pl.col(\"result seconds\")\n",
    "        == pl.col(\"result seconds\").min().over(\"sex\", \"event\"),\n",
    "        pl.col(\"event type\") == \"standard\",\n",
    "        pl.col(\"event\").str.contains(\"hurdles\").not_(),\n",
    "        pl.col(\"event\").str.contains(\"walk\").not_(),\n",
    "        pl.col(\"event\").str.contains(\"steeple\").not_(),\n",
    "    )\n",
    "    .with_columns(speed_mps=pl.col(\"distance\") / pl.col(\"result seconds\"))\n",
    "    .sort(\"sex\", \"distance\")\n",
    "    .plot(\"distance\", \"speed_mps\", by=\"sex\", **plot_kwargs, logx=True)\n",
    ")"
   ]
  },
  {
   "cell_type": "markdown",
   "metadata": {},
   "source": [
    "# What's the average age of a Top10 performance across disciplines for women\n"
   ]
  },
  {
   "cell_type": "code",
   "execution_count": null,
   "metadata": {},
   "outputs": [],
   "source": [
    "(\n",
    "    df.filter(pl.col(\"distance type\") == \"long distance\")\n",
    "    .with_columns(year=pl.col(\"date of event\").dt.year())\n",
    "    .with_columns(\n",
    "        rank_in_that_year=pl.col(\"result seconds\")\n",
    "        .rank()\n",
    "        .over(\"event\", \"year\", \"sex\")\n",
    "        .cast(pl.Int64)\n",
    "    )\n",
    "    .filter(pl.col(\"year\") < 2024)\n",
    "    .filter(pl.col(\"rank_in_that_year\") <= 10)\n",
    "    .filter(\n",
    "        pl.col(\"event type\") == \"standard\",\n",
    "        pl.col(\"event\").str.contains(\"hurdles\").not_(),\n",
    "        pl.col(\"event\").str.contains(\"walk\").not_(),\n",
    "        pl.col(\"event\").str.contains(\"steeple\").not_(),\n",
    "    )\n",
    "    .filter(pl.col(\"year\") > 2010)\n",
    "    .group_by(\"event\", \"sex\")\n",
    "    .agg(\n",
    "        avg_age=pl.col(\"age at event in years\").mean(),\n",
    "        distance=pl.col(\"distance\").first(),\n",
    "    )\n",
    "    .sort(\"distance\")\n",
    "    .plot.line(\n",
    "        \"distance\",\n",
    "        \"avg_age\",\n",
    "        by=\"sex\",\n",
    "        **plot_kwargs,\n",
    "        # subplots=True,\n",
    "    )\n",
    ")"
   ]
  },
  {
   "cell_type": "code",
   "execution_count": null,
   "metadata": {},
   "outputs": [],
   "source": []
  }
 ],
 "metadata": {
  "kernelspec": {
   "display_name": "alltime-athletics-python-4nYg65Hl-py3.11",
   "language": "python",
   "name": "python3"
  },
  "language_info": {
   "codemirror_mode": {
    "name": "ipython",
    "version": 3
   },
   "file_extension": ".py",
   "mimetype": "text/x-python",
   "name": "python",
   "nbconvert_exporter": "python",
   "pygments_lexer": "ipython3",
   "version": "3.11.9"
  }
 },
 "nbformat": 4,
 "nbformat_minor": 2
}
